{
 "cells": [
  {
   "cell_type": "code",
   "execution_count": 26,
   "metadata": {},
   "outputs": [],
   "source": [
    "import pandas as pd\n",
    "from models.record import Record\n",
    "from models.event import Event, EventType\n",
    "from models.player import allPlayer\n",
    "# df = pd.read_csv(\"p10s伤害3.csv\", encoding=\"gbk\")\n",
    "\n",
    "# df123 = pd.read_csv(\"123.csv\", encoding=\"utf-8\")\n",
    "df789: pd.DataFrame = pd.read_csv(\"p9s.csv\")"
   ]
  },
  {
   "cell_type": "code",
   "execution_count": 35,
   "metadata": {},
   "outputs": [
    {
     "data": {
      "text/plain": [
       "11.996"
      ]
     },
     "execution_count": 35,
     "metadata": {},
     "output_type": "execute_result"
    }
   ],
   "source": [
    "from models.status import Dot\n",
    "\n",
    "\n",
    "testData = df789.loc[0]\n",
    "\n",
    "\n",
    "def dfToRecord(row: pd.Series):\n",
    "    record = Record(\n",
    "        Event(\n",
    "            EventType.MagicDamage\n",
    "            if row[\"type\"] == \"magic\"\n",
    "            else EventType.PhysicsDamage,\n",
    "            name=row[\"name\"],\n",
    "            value=row[\"damage\"],\n",
    "        ),\n",
    "        user=allPlayer,\n",
    "        target=allPlayer,\n",
    "        delay=row[\"delay\"],\n",
    "    )\n",
    "    if row[\"hasDot\"]:\n",
    "        record.event.append(Dot(record.event.name, row[\"dotTime\"], row[\"dotDamage\"]))\n",
    "    return record\n",
    "    # print(record)\n",
    "    pass\n",
    "# dfToRecord()\n",
    "\n",
    "a = \"00:11.996\"\n",
    "m, s = a.strip().split(\":\")\n",
    "int(m) * 60 + float(s)\n",
    "# df789.apply(lambda x: print(x[\"name\"]), axis=1)"
   ]
  }
 ],
 "metadata": {
  "kernelspec": {
   "display_name": "Python 3",
   "language": "python",
   "name": "python3"
  },
  "language_info": {
   "codemirror_mode": {
    "name": "ipython",
    "version": 3
   },
   "file_extension": ".py",
   "mimetype": "text/x-python",
   "name": "python",
   "nbconvert_exporter": "python",
   "pygments_lexer": "ipython3",
   "version": "3.11.5"
  }
 },
 "nbformat": 4,
 "nbformat_minor": 2
}
